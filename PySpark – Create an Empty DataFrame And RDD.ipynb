{
  "nbformat": 4,
  "nbformat_minor": 0,
  "metadata": {
    "colab": {
      "provenance": [],
      "authorship_tag": "ABX9TyMLwemwoLCqb7JORGh7QY9L",
      "include_colab_link": true
    },
    "kernelspec": {
      "name": "python3",
      "display_name": "Python 3"
    },
    "language_info": {
      "name": "python"
    }
  },
  "cells": [
    {
      "cell_type": "markdown",
      "metadata": {
        "id": "view-in-github",
        "colab_type": "text"
      },
      "source": [
        "<a href=\"https://colab.research.google.com/github/plerzundidev/pyspark-ejemplos/blob/main/PySpark%20%E2%80%93%20Create%20an%20Empty%20DataFrame%20And%20RDD.ipynb\" target=\"_parent\"><img src=\"https://colab.research.google.com/assets/colab-badge.svg\" alt=\"Open In Colab\"/></a>"
      ]
    },
    {
      "cell_type": "markdown",
      "source": [
        "#Iniciamos librerias esenciales para su funcionamiento"
      ],
      "metadata": {
        "id": "10p-jloxH0lR"
      }
    },
    {
      "cell_type": "code",
      "source": [],
      "metadata": {
        "id": "6tWkBmYiH_35"
      },
      "execution_count": null,
      "outputs": []
    }
  ]
}