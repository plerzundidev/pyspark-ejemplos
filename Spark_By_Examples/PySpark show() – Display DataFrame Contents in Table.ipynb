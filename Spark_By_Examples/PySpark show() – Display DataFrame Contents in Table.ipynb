{
 "cells": [
  {
   "cell_type": "markdown",
   "metadata": {
    "application/vnd.databricks.v1+cell": {
     "cellMetadata": {},
     "inputWidgets": {},
     "nuid": "43d2f9f0-aee6-40c6-b098-2435f46a1c3d",
     "showTitle": false,
     "title": ""
    }
   },
   "source": [
    "PySpark DataFrame show() se utiliza para mostrar el contenido del DataFrame en un formato de tabla de filas y columnas. Por defecto, sólo muestra 20 filas, y los valores de las columnas se truncan en 20 caracteres."
   ]
  },
  {
   "cell_type": "markdown",
   "metadata": {
    "application/vnd.databricks.v1+cell": {
     "cellMetadata": {},
     "inputWidgets": {},
     "nuid": "d878d5d0-d9f6-49dd-bd89-fd39f98ba0fd",
     "showTitle": false,
     "title": ""
    }
   },
   "source": [
    "# 1. Ejemplo rápido de show()\n",
    "\n",
    "A continuación se muestran ejemplos rápidos de cómo mostrar el contenido de DataFrame."
   ]
  },
  {
   "cell_type": "code",
   "execution_count": 0,
   "metadata": {
    "application/vnd.databricks.v1+cell": {
     "cellMetadata": {
      "byteLimit": 2048000,
      "rowLimit": 10000
     },
     "inputWidgets": {},
     "nuid": "65775911-5a1e-43da-b9ed-95d252f7583a",
     "showTitle": false,
     "title": ""
    }
   },
   "outputs": [],
   "source": [
    "# Default - displays 20 rows and \n",
    "# 20 charactes from column value \n",
    "df.show()\n",
    "\n",
    "#Display full column contents\n",
    "df.show(truncate=False)\n",
    "\n",
    "# Display 2 rows and full column contents\n",
    "df.show(2,truncate=False) \n",
    "\n",
    "# Display 2 rows & column values 25 characters\n",
    "df.show(2,truncate=25) \n",
    "\n",
    "# Display DataFrame rows & columns vertically\n",
    "df.show(n=3,truncate=25,vertical=True)"
   ]
  },
  {
   "cell_type": "markdown",
   "metadata": {
    "application/vnd.databricks.v1+cell": {
     "cellMetadata": {},
     "inputWidgets": {},
     "nuid": "a4b6c434-f264-4057-8167-028959f246c9",
     "showTitle": false,
     "title": ""
    }
   },
   "source": [
    "# 2. show() Syntax"
   ]
  },
  {
   "cell_type": "code",
   "execution_count": 0,
   "metadata": {
    "application/vnd.databricks.v1+cell": {
     "cellMetadata": {
      "byteLimit": 2048000,
      "rowLimit": 10000
     },
     "inputWidgets": {},
     "nuid": "2783370e-07b4-447a-8c10-e607f9b66c0a",
     "showTitle": false,
     "title": ""
    }
   },
   "outputs": [],
   "source": [
    "# Syntax\n",
    "def show(self, n=20, truncate=True, vertical=False):"
   ]
  },
  {
   "cell_type": "markdown",
   "metadata": {
    "application/vnd.databricks.v1+cell": {
     "cellMetadata": {},
     "inputWidgets": {},
     "nuid": "b1863ca0-7467-434f-a684-ae43c0b8e7c2",
     "showTitle": false,
     "title": ""
    }
   },
   "source": [
    "# 3. PySpark show() To Display Contents\n",
    "\n",
    "Usa el método show() de PySpark para mostrar el contenido del DataFrame y usa el método printSchema() de pyspark para imprimir el esquema. El método show() por defecto sólo muestra 20 filas/registros del DataFrame y trunca los valores de las columnas a 20 caracteres."
   ]
  },
  {
   "cell_type": "code",
   "execution_count": 0,
   "metadata": {
    "application/vnd.databricks.v1+cell": {
     "cellMetadata": {
      "byteLimit": 2048000,
      "rowLimit": 10000
     },
     "inputWidgets": {},
     "nuid": "51240023-61dd-4bb3-a34f-9c1c0fdcfafb",
     "showTitle": false,
     "title": ""
    }
   },
   "outputs": [
    {
     "output_type": "stream",
     "name": "stdout",
     "output_type": "stream",
     "text": [
      "+-----+--------------------+\n|Seqno|               Quote|\n+-----+--------------------+\n|    1|Be the change tha...|\n|    2|Everyone thinks o...|\n|    3|The purpose of ou...|\n|    4|            Be cool.|\n+-----+--------------------+\n\n"
     ]
    }
   ],
   "source": [
    "from pyspark.sql import SparkSession\n",
    "spark = SparkSession.builder.appName('SparkByExamples.com').getOrCreate()\n",
    "columns = [\"Seqno\",\"Quote\"]\n",
    "data = [(\"1\", \"Be the change that you wish to see in the world\"),\n",
    "    (\"2\", \"Everyone thinks of changing the world, but no one thinks of changing himself.\"),\n",
    "    (\"3\", \"The purpose of our lives is to be happy.\"),\n",
    "    (\"4\", \"Be cool.\")]\n",
    "df = spark.createDataFrame(data,columns)\n",
    "df.show()"
   ]
  },
  {
   "cell_type": "code",
   "execution_count": 0,
   "metadata": {
    "application/vnd.databricks.v1+cell": {
     "cellMetadata": {
      "byteLimit": 2048000,
      "rowLimit": 10000
     },
     "inputWidgets": {},
     "nuid": "f996e042-8065-4636-831e-fabce0eb47bd",
     "showTitle": false,
     "title": ""
    }
   },
   "outputs": [
    {
     "output_type": "stream",
     "name": "stdout",
     "output_type": "stream",
     "text": [
      "+-----+-----------------------------------------------------------------------------+\n|Seqno|Quote                                                                        |\n+-----+-----------------------------------------------------------------------------+\n|1    |Be the change that you wish to see in the world                              |\n|2    |Everyone thinks of changing the world, but no one thinks of changing himself.|\n|3    |The purpose of our lives is to be happy.                                     |\n|4    |Be cool.                                                                     |\n+-----+-----------------------------------------------------------------------------+\n\n"
     ]
    }
   ],
   "source": [
    "#Display full column contents\n",
    "df.show(truncate=False)"
   ]
  },
  {
   "cell_type": "markdown",
   "metadata": {
    "application/vnd.databricks.v1+cell": {
     "cellMetadata": {},
     "inputWidgets": {},
     "nuid": "92a63fe5-246f-4920-9424-fcf10a39503c",
     "showTitle": false,
     "title": ""
    }
   },
   "source": [
    "Por defecto el método show() muestra sólo 20 filas del DataFrame de PySpark. El siguiente ejemplo limita las filas a 2 y el contenido completo de las columnas. Nuestro DataFrame tiene sólo 4 filas por lo tanto no puedo demostrar con más de 4 filas. Si tienes un DataFrame con miles de filas intenta cambiar el valor de 2 a 100 para mostrar más de 20 filas."
   ]
  },
  {
   "cell_type": "code",
   "execution_count": 0,
   "metadata": {
    "application/vnd.databricks.v1+cell": {
     "cellMetadata": {
      "byteLimit": 2048000,
      "rowLimit": 10000
     },
     "inputWidgets": {},
     "nuid": "90c81e75-cbb6-4faa-a661-528e446ba5ca",
     "showTitle": false,
     "title": ""
    }
   },
   "outputs": [
    {
     "output_type": "stream",
     "name": "stdout",
     "output_type": "stream",
     "text": [
      "+-----+-----------------------------------------------------------------------------+\n|Seqno|Quote                                                                        |\n+-----+-----------------------------------------------------------------------------+\n|1    |Be the change that you wish to see in the world                              |\n|2    |Everyone thinks of changing the world, but no one thinks of changing himself.|\n+-----+-----------------------------------------------------------------------------+\nonly showing top 2 rows\n\n"
     ]
    }
   ],
   "source": [
    "# Display 2 rows and full column contents\n",
    "df.show(2,truncate=False) "
   ]
  },
  {
   "cell_type": "markdown",
   "metadata": {
    "application/vnd.databricks.v1+cell": {
     "cellMetadata": {},
     "inputWidgets": {},
     "nuid": "ce4bbe1e-fbbf-4e8e-af56-75fb00bdfbe2",
     "showTitle": false,
     "title": ""
    }
   },
   "source": [
    "#4. Show() con truncar valores de columna\n",
    "También puede truncar el valor de la columna a la longitud deseada. Por defecto se trunca después de 20 caracteres, sin embargo, puede mostrar todo el contenido utilizando truncate=False. Si desea truncar a una longitud específica utilice truncate=n."
   ]
  },
  {
   "cell_type": "code",
   "execution_count": 0,
   "metadata": {
    "application/vnd.databricks.v1+cell": {
     "cellMetadata": {
      "byteLimit": 2048000,
      "rowLimit": 10000
     },
     "inputWidgets": {},
     "nuid": "bfd4ec34-7949-4234-920d-57588a68830b",
     "showTitle": false,
     "title": ""
    }
   },
   "outputs": [
    {
     "output_type": "stream",
     "name": "stdout",
     "output_type": "stream",
     "text": [
      "+-----+-------------------------+\n|Seqno|                    Quote|\n+-----+-------------------------+\n|    1|Be the change that you...|\n|    2|Everyone thinks of cha...|\n+-----+-------------------------+\nonly showing top 2 rows\n\n"
     ]
    }
   ],
   "source": [
    "# Display 2 rows & column values 25 characters\n",
    "df.show(2,truncate=25) "
   ]
  },
  {
   "cell_type": "markdown",
   "metadata": {
    "application/vnd.databricks.v1+cell": {
     "cellMetadata": {},
     "inputWidgets": {},
     "nuid": "adc1d2d7-46ba-4ee1-bb5e-9ddfad64911a",
     "showTitle": false,
     "title": ""
    }
   },
   "source": [
    "# 5. Visualizar contenidos verticalmente\n",
    "\n",
    "Por último, veamos cómo mostrar el DataFrame verticalmente registro a registro."
   ]
  },
  {
   "cell_type": "code",
   "execution_count": 0,
   "metadata": {
    "application/vnd.databricks.v1+cell": {
     "cellMetadata": {
      "byteLimit": 2048000,
      "rowLimit": 10000
     },
     "inputWidgets": {},
     "nuid": "89f3daa1-4e84-4919-a77b-5c00bdf74540",
     "showTitle": false,
     "title": ""
    }
   },
   "outputs": [
    {
     "output_type": "stream",
     "name": "stdout",
     "output_type": "stream",
     "text": [
      "-RECORD 0--------------------------\n Seqno | 1                         \n Quote | Be the change that you... \n-RECORD 1--------------------------\n Seqno | 2                         \n Quote | Everyone thinks of cha... \n-RECORD 2--------------------------\n Seqno | 3                         \n Quote | The purpose of our liv... \nonly showing top 3 rows\n\n"
     ]
    }
   ],
   "source": [
    "# Display DataFrame rows & columns vertically\n",
    "df.show(n=3,truncate=25,vertical=True)"
   ]
  },
  {
   "cell_type": "code",
   "execution_count": 0,
   "metadata": {
    "application/vnd.databricks.v1+cell": {
     "cellMetadata": {},
     "inputWidgets": {},
     "nuid": "2fd56d9c-bfe7-483f-a328-75ed83f0d87a",
     "showTitle": false,
     "title": ""
    }
   },
   "outputs": [],
   "source": []
  }
 ],
 "metadata": {
  "application/vnd.databricks.v1+notebook": {
   "dashboards": [],
   "language": "python",
   "notebookMetadata": {
    "pythonIndentUnit": 4
   },
   "notebookName": "PySpark show() – Display DataFrame Contents in Table",
   "widgets": {}
  }
 },
 "nbformat": 4,
 "nbformat_minor": 0
}
